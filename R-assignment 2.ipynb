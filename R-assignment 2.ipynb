{
 "cells": [
  {
   "cell_type": "markdown",
   "metadata": {},
   "source": [
    "1.FOOD ITEMS AND THIER CORRESPONDING PRICES"
   ]
  },
  {
   "cell_type": "code",
   "execution_count": 15,
   "metadata": {},
   "outputs": [
    {
     "data": {
      "text/html": [
       "<ol class=list-inline>\n",
       "\t<li>'waakye'</li>\n",
       "\t<li>'gari'</li>\n",
       "\t<li>'sphagetti'</li>\n",
       "\t<li>'salad'</li>\n",
       "\t<li>'egg'</li>\n",
       "\t<li>'meat'</li>\n",
       "</ol>\n"
      ],
      "text/latex": [
       "\\begin{enumerate*}\n",
       "\\item 'waakye'\n",
       "\\item 'gari'\n",
       "\\item 'sphagetti'\n",
       "\\item 'salad'\n",
       "\\item 'egg'\n",
       "\\item 'meat'\n",
       "\\end{enumerate*}\n"
      ],
      "text/markdown": [
       "1. 'waakye'\n",
       "2. 'gari'\n",
       "3. 'sphagetti'\n",
       "4. 'salad'\n",
       "5. 'egg'\n",
       "6. 'meat'\n",
       "\n",
       "\n"
      ],
      "text/plain": [
       "[1] \"waakye\"    \"gari\"      \"sphagetti\" \"salad\"     \"egg\"       \"meat\"     "
      ]
     },
     "metadata": {},
     "output_type": "display_data"
    }
   ],
   "source": [
    "food_items <- c(\"waakye\", \"gari\", \"sphagetti\",\"salad\",\"egg\", \"meat\")\n",
    "food_items\n"
   ]
  },
  {
   "cell_type": "code",
   "execution_count": 16,
   "metadata": {},
   "outputs": [
    {
     "data": {
      "text/html": [
       "<ol class=list-inline>\n",
       "\t<li>4</li>\n",
       "\t<li>0.5</li>\n",
       "\t<li>1.5</li>\n",
       "\t<li>1</li>\n",
       "\t<li>1</li>\n",
       "\t<li>3</li>\n",
       "</ol>\n"
      ],
      "text/latex": [
       "\\begin{enumerate*}\n",
       "\\item 4\n",
       "\\item 0.5\n",
       "\\item 1.5\n",
       "\\item 1\n",
       "\\item 1\n",
       "\\item 3\n",
       "\\end{enumerate*}\n"
      ],
      "text/markdown": [
       "1. 4\n",
       "2. 0.5\n",
       "3. 1.5\n",
       "4. 1\n",
       "5. 1\n",
       "6. 3\n",
       "\n",
       "\n"
      ],
      "text/plain": [
       "[1] 4.0 0.5 1.5 1.0 1.0 3.0"
      ]
     },
     "metadata": {},
     "output_type": "display_data"
    }
   ],
   "source": [
    "prices <- c(4.0, 0.5,1.5,1.0,1.0,3.0)\n",
    "prices"
   ]
  },
  {
   "cell_type": "code",
   "execution_count": 23,
   "metadata": {},
   "outputs": [
    {
     "data": {
      "text/html": [
       "<table>\n",
       "<tbody>\n",
       "\t<tr><td>waakye   </td><td>4        </td></tr>\n",
       "\t<tr><td>gari     </td><td>0.5      </td></tr>\n",
       "\t<tr><td>sphagetti</td><td>1.5      </td></tr>\n",
       "\t<tr><td>salad    </td><td>1        </td></tr>\n",
       "\t<tr><td>egg      </td><td>1        </td></tr>\n",
       "\t<tr><td>meat     </td><td>3        </td></tr>\n",
       "</tbody>\n",
       "</table>\n"
      ],
      "text/latex": [
       "\\begin{tabular}{ll}\n",
       "\t waakye    & 4        \\\\\n",
       "\t gari      & 0.5      \\\\\n",
       "\t sphagetti & 1.5      \\\\\n",
       "\t salad     & 1        \\\\\n",
       "\t egg       & 1        \\\\\n",
       "\t meat      & 3        \\\\\n",
       "\\end{tabular}\n"
      ],
      "text/markdown": [
       "\n",
       "| waakye    | 4         |\n",
       "| gari      | 0.5       |\n",
       "| sphagetti | 1.5       |\n",
       "| salad     | 1         |\n",
       "| egg       | 1         |\n",
       "| meat      | 3         |\n",
       "\n"
      ],
      "text/plain": [
       "     [,1]      [,2]\n",
       "[1,] waakye    4   \n",
       "[2,] gari      0.5 \n",
       "[3,] sphagetti 1.5 \n",
       "[4,] salad     1   \n",
       "[5,] egg       1   \n",
       "[6,] meat      3   "
      ]
     },
     "metadata": {},
     "output_type": "display_data"
    }
   ],
   "source": [
    "food_prices <- array(c(food_items,prices),dim = c(6,2))\n",
    "food_prices"
   ]
  },
  {
   "cell_type": "markdown",
   "metadata": {},
   "source": [
    " 2.CREATING AN ARRAY OUT OF FOUR(4) LISTS."
   ]
  },
  {
   "cell_type": "code",
   "execution_count": 24,
   "metadata": {},
   "outputs": [
    {
     "data": {
      "text/html": [
       "<ol>\n",
       "\t<li>'Apple'</li>\n",
       "\t<li>'Samsung'</li>\n",
       "\t<li>'Huawei'</li>\n",
       "\t<li>'Rlg'</li>\n",
       "</ol>\n"
      ],
      "text/latex": [
       "\\begin{enumerate}\n",
       "\\item 'Apple'\n",
       "\\item 'Samsung'\n",
       "\\item 'Huawei'\n",
       "\\item 'Rlg'\n",
       "\\end{enumerate}\n"
      ],
      "text/markdown": [
       "1. 'Apple'\n",
       "2. 'Samsung'\n",
       "3. 'Huawei'\n",
       "4. 'Rlg'\n",
       "\n",
       "\n"
      ],
      "text/plain": [
       "[[1]]\n",
       "[1] \"Apple\"\n",
       "\n",
       "[[2]]\n",
       "[1] \"Samsung\"\n",
       "\n",
       "[[3]]\n",
       "[1] \"Huawei\"\n",
       "\n",
       "[[4]]\n",
       "[1] \"Rlg\"\n"
      ]
     },
     "metadata": {},
     "output_type": "display_data"
    }
   ],
   "source": [
    "phones <- list(\"Apple\", \"Samsung\", \"Huawei\", \"Rlg\")\n",
    "phones"
   ]
  },
  {
   "cell_type": "code",
   "execution_count": 25,
   "metadata": {},
   "outputs": [
    {
     "data": {
      "text/html": [
       "<ol>\n",
       "\t<li>'Amreica'</li>\n",
       "\t<li>'South Korea'</li>\n",
       "\t<li>'China'</li>\n",
       "\t<li>'Ghana'</li>\n",
       "</ol>\n"
      ],
      "text/latex": [
       "\\begin{enumerate}\n",
       "\\item 'Amreica'\n",
       "\\item 'South Korea'\n",
       "\\item 'China'\n",
       "\\item 'Ghana'\n",
       "\\end{enumerate}\n"
      ],
      "text/markdown": [
       "1. 'Amreica'\n",
       "2. 'South Korea'\n",
       "3. 'China'\n",
       "4. 'Ghana'\n",
       "\n",
       "\n"
      ],
      "text/plain": [
       "[[1]]\n",
       "[1] \"Amreica\"\n",
       "\n",
       "[[2]]\n",
       "[1] \"South Korea\"\n",
       "\n",
       "[[3]]\n",
       "[1] \"China\"\n",
       "\n",
       "[[4]]\n",
       "[1] \"Ghana\"\n"
      ]
     },
     "metadata": {},
     "output_type": "display_data"
    }
   ],
   "source": [
    "countries <- list(\"Amreica\", \"South Korea\", \"China\",\"Ghana\")\n",
    "countries"
   ]
  },
  {
   "cell_type": "code",
   "execution_count": 28,
   "metadata": {},
   "outputs": [
    {
     "data": {
      "text/html": [
       "<ol>\n",
       "\t<li>600</li>\n",
       "\t<li>400</li>\n",
       "\t<li>300</li>\n",
       "\t<li>100</li>\n",
       "</ol>\n"
      ],
      "text/latex": [
       "\\begin{enumerate}\n",
       "\\item 600\n",
       "\\item 400\n",
       "\\item 300\n",
       "\\item 100\n",
       "\\end{enumerate}\n"
      ],
      "text/markdown": [
       "1. 600\n",
       "2. 400\n",
       "3. 300\n",
       "4. 100\n",
       "\n",
       "\n"
      ],
      "text/plain": [
       "[[1]]\n",
       "[1] 600\n",
       "\n",
       "[[2]]\n",
       "[1] 400\n",
       "\n",
       "[[3]]\n",
       "[1] 300\n",
       "\n",
       "[[4]]\n",
       "[1] 100\n"
      ]
     },
     "metadata": {},
     "output_type": "display_data"
    }
   ],
   "source": [
    "Average_prices <- list(600,400, 300, 100)\n",
    "Average_prices"
   ]
  },
  {
   "cell_type": "code",
   "execution_count": 29,
   "metadata": {},
   "outputs": [
    {
     "data": {
      "text/html": [
       "<ol>\n",
       "\t<li>3</li>\n",
       "\t<li>2</li>\n",
       "\t<li>1</li>\n",
       "\t<li>4</li>\n",
       "</ol>\n"
      ],
      "text/latex": [
       "\\begin{enumerate}\n",
       "\\item 3\n",
       "\\item 2\n",
       "\\item 1\n",
       "\\item 4\n",
       "\\end{enumerate}\n"
      ],
      "text/markdown": [
       "1. 3\n",
       "2. 2\n",
       "3. 1\n",
       "4. 4\n",
       "\n",
       "\n"
      ],
      "text/plain": [
       "[[1]]\n",
       "[1] 3\n",
       "\n",
       "[[2]]\n",
       "[1] 2\n",
       "\n",
       "[[3]]\n",
       "[1] 1\n",
       "\n",
       "[[4]]\n",
       "[1] 4\n"
      ]
     },
     "metadata": {},
     "output_type": "display_data"
    }
   ],
   "source": [
    "ranking <- list(3,2,1,4)\n",
    "ranking"
   ]
  },
  {
   "cell_type": "code",
   "execution_count": 40,
   "metadata": {},
   "outputs": [
    {
     "data": {
      "text/html": [
       "<ol>\n",
       "\t<li>'Best'</li>\n",
       "\t<li>'Better'</li>\n",
       "\t<li>'Good'</li>\n",
       "\t<li>'Bad'</li>\n",
       "</ol>\n"
      ],
      "text/latex": [
       "\\begin{enumerate}\n",
       "\\item 'Best'\n",
       "\\item 'Better'\n",
       "\\item 'Good'\n",
       "\\item 'Bad'\n",
       "\\end{enumerate}\n"
      ],
      "text/markdown": [
       "1. 'Best'\n",
       "2. 'Better'\n",
       "3. 'Good'\n",
       "4. 'Bad'\n",
       "\n",
       "\n"
      ],
      "text/plain": [
       "[[1]]\n",
       "[1] \"Best\"\n",
       "\n",
       "[[2]]\n",
       "[1] \"Better\"\n",
       "\n",
       "[[3]]\n",
       "[1] \"Good\"\n",
       "\n",
       "[[4]]\n",
       "[1] \"Bad\"\n"
      ]
     },
     "metadata": {},
     "output_type": "display_data"
    }
   ],
   "source": [
    "grade <- list(\"Best\",\"Better\",\"Good\",\"Bad\")\n",
    "grade"
   ]
  },
  {
   "cell_type": "code",
   "execution_count": 43,
   "metadata": {},
   "outputs": [
    {
     "data": {
      "text/html": [
       "<table>\n",
       "<tbody>\n",
       "\t<tr><td>Apple  , Samsung, Huawei , Rlg    </td></tr>\n",
       "\t<tr><td>Amreica    , South Korea, China      , Ghana      </td></tr>\n",
       "\t<tr><td>600, 400, 300, 100</td></tr>\n",
       "\t<tr><td>3, 2, 1, 4</td></tr>\n",
       "\t<tr><td>Best  , Better, Good  , Bad   </td></tr>\n",
       "</tbody>\n",
       "</table>\n"
      ],
      "text/latex": [
       "\\begin{tabular}{l}\n",
       "\t Apple  , Samsung, Huawei , Rlg    \\\\\n",
       "\t Amreica    , South Korea, China      , Ghana      \\\\\n",
       "\t 600, 400, 300, 100\\\\\n",
       "\t 3, 2, 1, 4\\\\\n",
       "\t Best  , Better, Good  , Bad   \\\\\n",
       "\\end{tabular}\n"
      ],
      "text/markdown": [
       "\n",
       "| Apple  , Samsung, Huawei , Rlg     |\n",
       "| Amreica    , South Korea, China      , Ghana       |\n",
       "| 600, 400, 300, 100 |\n",
       "| 3, 2, 1, 4 |\n",
       "| Best  , Better, Good  , Bad    |\n",
       "\n"
      ],
      "text/plain": [
       "     [,1]                                              \n",
       "[1,] Apple  , Samsung, Huawei , Rlg                    \n",
       "[2,] Amreica    , South Korea, China      , Ghana      \n",
       "[3,] 600, 400, 300, 100                                \n",
       "[4,] 3, 2, 1, 4                                        \n",
       "[5,] Best  , Better, Good  , Bad                       "
      ]
     },
     "metadata": {},
     "output_type": "display_data"
    }
   ],
   "source": [
    "phone_list <- array(list(phones,countries,Average_prices,ranking,grade), dim = c(5,1))\n",
    "phone_list"
   ]
  },
  {
   "cell_type": "markdown",
   "metadata": {},
   "source": [
    "3. CREATE AN ARRAY OUT OF VECTORS, LISTS AND MATRIX"
   ]
  },
  {
   "cell_type": "markdown",
   "metadata": {},
   "source": [
    "VECTORS"
   ]
  },
  {
   "cell_type": "code",
   "execution_count": 45,
   "metadata": {},
   "outputs": [
    {
     "data": {
      "text/html": [
       "<ol class=list-inline>\n",
       "\t<li>'Akuffo Addo'</li>\n",
       "\t<li>'Trump'</li>\n",
       "\t<li>'Obama'</li>\n",
       "\t<li>'Mahama'</li>\n",
       "\t<li>'Buhari'</li>\n",
       "</ol>\n"
      ],
      "text/latex": [
       "\\begin{enumerate*}\n",
       "\\item 'Akuffo Addo'\n",
       "\\item 'Trump'\n",
       "\\item 'Obama'\n",
       "\\item 'Mahama'\n",
       "\\item 'Buhari'\n",
       "\\end{enumerate*}\n"
      ],
      "text/markdown": [
       "1. 'Akuffo Addo'\n",
       "2. 'Trump'\n",
       "3. 'Obama'\n",
       "4. 'Mahama'\n",
       "5. 'Buhari'\n",
       "\n",
       "\n"
      ],
      "text/plain": [
       "[1] \"Akuffo Addo\" \"Trump\"       \"Obama\"       \"Mahama\"      \"Buhari\"     "
      ]
     },
     "metadata": {},
     "output_type": "display_data"
    }
   ],
   "source": [
    "Presidents <- c(\"Akuffo Addo\", \"Trump\", \"Obama\", \"Mahama\", \"Buhari\")\n",
    "Presidents"
   ]
  },
  {
   "cell_type": "code",
   "execution_count": 49,
   "metadata": {},
   "outputs": [
    {
     "data": {
      "text/html": [
       "<table>\n",
       "<tbody>\n",
       "\t<tr><td>Akuffo Addo</td><td>Mahama     </td></tr>\n",
       "\t<tr><td>Trump      </td><td>Buhari     </td></tr>\n",
       "\t<tr><td>Obama      </td><td>Akuffo Addo</td></tr>\n",
       "</tbody>\n",
       "</table>\n"
      ],
      "text/latex": [
       "\\begin{tabular}{ll}\n",
       "\t Akuffo Addo & Mahama     \\\\\n",
       "\t Trump       & Buhari     \\\\\n",
       "\t Obama       & Akuffo Addo\\\\\n",
       "\\end{tabular}\n"
      ],
      "text/markdown": [
       "\n",
       "| Akuffo Addo | Mahama      |\n",
       "| Trump       | Buhari      |\n",
       "| Obama       | Akuffo Addo |\n",
       "\n"
      ],
      "text/plain": [
       "     [,1]        [,2]       \n",
       "[1,] Akuffo Addo Mahama     \n",
       "[2,] Trump       Buhari     \n",
       "[3,] Obama       Akuffo Addo"
      ]
     },
     "metadata": {},
     "output_type": "display_data"
    }
   ],
   "source": [
    "array_Presidents <- array(c(Precidents),dim = c(3,2))\n",
    "array_Presidents"
   ]
  },
  {
   "cell_type": "markdown",
   "metadata": {},
   "source": [
    "LISTS"
   ]
  },
  {
   "cell_type": "code",
   "execution_count": 50,
   "metadata": {},
   "outputs": [
    {
     "data": {
      "text/html": [
       "<ol>\n",
       "\t<li>'Accra'</li>\n",
       "\t<li>'Kumasi'</li>\n",
       "\t<li>37</li>\n",
       "\t<li>'Ho'</li>\n",
       "\t<li>'LA'</li>\n",
       "\t<li>'NewYork'</li>\n",
       "\t<li>'Berlin'</li>\n",
       "\t<li>'Ottawa'</li>\n",
       "</ol>\n"
      ],
      "text/latex": [
       "\\begin{enumerate}\n",
       "\\item 'Accra'\n",
       "\\item 'Kumasi'\n",
       "\\item 37\n",
       "\\item 'Ho'\n",
       "\\item 'LA'\n",
       "\\item 'NewYork'\n",
       "\\item 'Berlin'\n",
       "\\item 'Ottawa'\n",
       "\\end{enumerate}\n"
      ],
      "text/markdown": [
       "1. 'Accra'\n",
       "2. 'Kumasi'\n",
       "3. 37\n",
       "4. 'Ho'\n",
       "5. 'LA'\n",
       "6. 'NewYork'\n",
       "7. 'Berlin'\n",
       "8. 'Ottawa'\n",
       "\n",
       "\n"
      ],
      "text/plain": [
       "[[1]]\n",
       "[1] \"Accra\"\n",
       "\n",
       "[[2]]\n",
       "[1] \"Kumasi\"\n",
       "\n",
       "[[3]]\n",
       "[1] 37\n",
       "\n",
       "[[4]]\n",
       "[1] \"Ho\"\n",
       "\n",
       "[[5]]\n",
       "[1] \"LA\"\n",
       "\n",
       "[[6]]\n",
       "[1] \"NewYork\"\n",
       "\n",
       "[[7]]\n",
       "[1] \"Berlin\"\n",
       "\n",
       "[[8]]\n",
       "[1] \"Ottawa\"\n"
      ]
     },
     "metadata": {},
     "output_type": "display_data"
    }
   ],
   "source": [
    "cities <- list(\"Accra\", \"Kumasi\",37,\"Ho\",\"LA\", \"NewYork\", \"Berlin\", \"Ottawa\")\n",
    "cities"
   ]
  },
  {
   "cell_type": "code",
   "execution_count": 53,
   "metadata": {},
   "outputs": [
    {
     "data": {
      "text/html": [
       "<table>\n",
       "<tbody>\n",
       "\t<tr><td>Accra  , Kumasi , 37     , Ho     , LA     , NewYork, Berlin , Ottawa </td></tr>\n",
       "\t<tr><td>Accra  , Kumasi , 37     , Ho     , LA     , NewYork, Berlin , Ottawa </td></tr>\n",
       "\t<tr><td>Accra  , Kumasi , 37     , Ho     , LA     , NewYork, Berlin , Ottawa </td></tr>\n",
       "\t<tr><td>Accra  , Kumasi , 37     , Ho     , LA     , NewYork, Berlin , Ottawa </td></tr>\n",
       "</tbody>\n",
       "</table>\n"
      ],
      "text/latex": [
       "\\begin{tabular}{l}\n",
       "\t Accra  , Kumasi , 37     , Ho     , LA     , NewYork, Berlin , Ottawa \\\\\n",
       "\t Accra  , Kumasi , 37     , Ho     , LA     , NewYork, Berlin , Ottawa \\\\\n",
       "\t Accra  , Kumasi , 37     , Ho     , LA     , NewYork, Berlin , Ottawa \\\\\n",
       "\t Accra  , Kumasi , 37     , Ho     , LA     , NewYork, Berlin , Ottawa \\\\\n",
       "\\end{tabular}\n"
      ],
      "text/markdown": [
       "\n",
       "| Accra  , Kumasi , 37     , Ho     , LA     , NewYork, Berlin , Ottawa  |\n",
       "| Accra  , Kumasi , 37     , Ho     , LA     , NewYork, Berlin , Ottawa  |\n",
       "| Accra  , Kumasi , 37     , Ho     , LA     , NewYork, Berlin , Ottawa  |\n",
       "| Accra  , Kumasi , 37     , Ho     , LA     , NewYork, Berlin , Ottawa  |\n",
       "\n"
      ],
      "text/plain": [
       "     [,1]                                                                  \n",
       "[1,] Accra  , Kumasi , 37     , Ho     , LA     , NewYork, Berlin , Ottawa \n",
       "[2,] Accra  , Kumasi , 37     , Ho     , LA     , NewYork, Berlin , Ottawa \n",
       "[3,] Accra  , Kumasi , 37     , Ho     , LA     , NewYork, Berlin , Ottawa \n",
       "[4,] Accra  , Kumasi , 37     , Ho     , LA     , NewYork, Berlin , Ottawa "
      ]
     },
     "metadata": {},
     "output_type": "display_data"
    }
   ],
   "source": [
    "cities_array <- array(list(cities), dim = c(4,1))\n",
    "cities_array"
   ]
  },
  {
   "cell_type": "markdown",
   "metadata": {},
   "source": [
    "Matrix"
   ]
  },
  {
   "cell_type": "code",
   "execution_count": 64,
   "metadata": {},
   "outputs": [
    {
     "data": {
      "text/html": [
       "<table>\n",
       "<tbody>\n",
       "\t<tr><td> 1 </td><td> 2 </td><td> 3 </td><td> 4 </td><td> 5 </td><td> 6 </td><td> 7 </td><td> 8 </td><td> 9 </td><td> 10</td></tr>\n",
       "\t<tr><td>11 </td><td>12 </td><td>13 </td><td>14 </td><td>15 </td><td>16 </td><td>17 </td><td>18 </td><td>19 </td><td> 20</td></tr>\n",
       "\t<tr><td>21 </td><td>22 </td><td>23 </td><td>24 </td><td>25 </td><td>26 </td><td>27 </td><td>28 </td><td>29 </td><td> 30</td></tr>\n",
       "\t<tr><td>31 </td><td>32 </td><td>33 </td><td>34 </td><td>35 </td><td>36 </td><td>37 </td><td>38 </td><td>39 </td><td> 40</td></tr>\n",
       "\t<tr><td>41 </td><td>42 </td><td>43 </td><td>44 </td><td>45 </td><td>46 </td><td>47 </td><td>48 </td><td>49 </td><td> 50</td></tr>\n",
       "\t<tr><td>51 </td><td>52 </td><td>53 </td><td>54 </td><td>55 </td><td>56 </td><td>57 </td><td>58 </td><td>59 </td><td> 60</td></tr>\n",
       "\t<tr><td>61 </td><td>62 </td><td>63 </td><td>64 </td><td>65 </td><td>66 </td><td>67 </td><td>68 </td><td>69 </td><td> 70</td></tr>\n",
       "\t<tr><td>71 </td><td>72 </td><td>73 </td><td>74 </td><td>75 </td><td>76 </td><td>77 </td><td>78 </td><td>79 </td><td> 80</td></tr>\n",
       "\t<tr><td>81 </td><td>82 </td><td>83 </td><td>84 </td><td>85 </td><td>86 </td><td>87 </td><td>88 </td><td>89 </td><td> 90</td></tr>\n",
       "\t<tr><td>91 </td><td>92 </td><td>93 </td><td>94 </td><td>95 </td><td>96 </td><td>97 </td><td>98 </td><td>99 </td><td>100</td></tr>\n",
       "</tbody>\n",
       "</table>\n"
      ],
      "text/latex": [
       "\\begin{tabular}{llllllllll}\n",
       "\t  1  &  2  &  3  &  4  &  5  &  6  &  7  &  8  &  9  &  10\\\\\n",
       "\t 11  & 12  & 13  & 14  & 15  & 16  & 17  & 18  & 19  &  20\\\\\n",
       "\t 21  & 22  & 23  & 24  & 25  & 26  & 27  & 28  & 29  &  30\\\\\n",
       "\t 31  & 32  & 33  & 34  & 35  & 36  & 37  & 38  & 39  &  40\\\\\n",
       "\t 41  & 42  & 43  & 44  & 45  & 46  & 47  & 48  & 49  &  50\\\\\n",
       "\t 51  & 52  & 53  & 54  & 55  & 56  & 57  & 58  & 59  &  60\\\\\n",
       "\t 61  & 62  & 63  & 64  & 65  & 66  & 67  & 68  & 69  &  70\\\\\n",
       "\t 71  & 72  & 73  & 74  & 75  & 76  & 77  & 78  & 79  &  80\\\\\n",
       "\t 81  & 82  & 83  & 84  & 85  & 86  & 87  & 88  & 89  &  90\\\\\n",
       "\t 91  & 92  & 93  & 94  & 95  & 96  & 97  & 98  & 99  & 100\\\\\n",
       "\\end{tabular}\n"
      ],
      "text/markdown": [
       "\n",
       "|  1  |  2  |  3  |  4  |  5  |  6  |  7  |  8  |  9  |  10 |\n",
       "| 11  | 12  | 13  | 14  | 15  | 16  | 17  | 18  | 19  |  20 |\n",
       "| 21  | 22  | 23  | 24  | 25  | 26  | 27  | 28  | 29  |  30 |\n",
       "| 31  | 32  | 33  | 34  | 35  | 36  | 37  | 38  | 39  |  40 |\n",
       "| 41  | 42  | 43  | 44  | 45  | 46  | 47  | 48  | 49  |  50 |\n",
       "| 51  | 52  | 53  | 54  | 55  | 56  | 57  | 58  | 59  |  60 |\n",
       "| 61  | 62  | 63  | 64  | 65  | 66  | 67  | 68  | 69  |  70 |\n",
       "| 71  | 72  | 73  | 74  | 75  | 76  | 77  | 78  | 79  |  80 |\n",
       "| 81  | 82  | 83  | 84  | 85  | 86  | 87  | 88  | 89  |  90 |\n",
       "| 91  | 92  | 93  | 94  | 95  | 96  | 97  | 98  | 99  | 100 |\n",
       "\n"
      ],
      "text/plain": [
       "      [,1] [,2] [,3] [,4] [,5] [,6] [,7] [,8] [,9] [,10]\n",
       " [1,]  1    2    3    4    5    6    7    8    9    10  \n",
       " [2,] 11   12   13   14   15   16   17   18   19    20  \n",
       " [3,] 21   22   23   24   25   26   27   28   29    30  \n",
       " [4,] 31   32   33   34   35   36   37   38   39    40  \n",
       " [5,] 41   42   43   44   45   46   47   48   49    50  \n",
       " [6,] 51   52   53   54   55   56   57   58   59    60  \n",
       " [7,] 61   62   63   64   65   66   67   68   69    70  \n",
       " [8,] 71   72   73   74   75   76   77   78   79    80  \n",
       " [9,] 81   82   83   84   85   86   87   88   89    90  \n",
       "[10,] 91   92   93   94   95   96   97   98   99   100  "
      ]
     },
     "metadata": {},
     "output_type": "display_data"
    }
   ],
   "source": [
    "Numbers <- matrix(1:100, nrow = 10, byrow = 10)\n",
    "Numbers"
   ]
  },
  {
   "cell_type": "code",
   "execution_count": 66,
   "metadata": {},
   "outputs": [
    {
     "data": {
      "text/html": [
       "<table>\n",
       "<tbody>\n",
       "\t<tr><td> 1 </td><td> 3 </td><td> 5 </td><td> 7 </td><td>  9</td></tr>\n",
       "\t<tr><td>11 </td><td>13 </td><td>15 </td><td>17 </td><td> 19</td></tr>\n",
       "\t<tr><td>21 </td><td>23 </td><td>25 </td><td>27 </td><td> 29</td></tr>\n",
       "\t<tr><td>31 </td><td>33 </td><td>35 </td><td>37 </td><td> 39</td></tr>\n",
       "\t<tr><td>41 </td><td>43 </td><td>45 </td><td>47 </td><td> 49</td></tr>\n",
       "\t<tr><td>51 </td><td>53 </td><td>55 </td><td>57 </td><td> 59</td></tr>\n",
       "\t<tr><td>61 </td><td>63 </td><td>65 </td><td>67 </td><td> 69</td></tr>\n",
       "\t<tr><td>71 </td><td>73 </td><td>75 </td><td>77 </td><td> 79</td></tr>\n",
       "\t<tr><td>81 </td><td>83 </td><td>85 </td><td>87 </td><td> 89</td></tr>\n",
       "\t<tr><td>91 </td><td>93 </td><td>95 </td><td>97 </td><td> 99</td></tr>\n",
       "\t<tr><td> 2 </td><td> 4 </td><td> 6 </td><td> 8 </td><td> 10</td></tr>\n",
       "\t<tr><td>12 </td><td>14 </td><td>16 </td><td>18 </td><td> 20</td></tr>\n",
       "\t<tr><td>22 </td><td>24 </td><td>26 </td><td>28 </td><td> 30</td></tr>\n",
       "\t<tr><td>32 </td><td>34 </td><td>36 </td><td>38 </td><td> 40</td></tr>\n",
       "\t<tr><td>42 </td><td>44 </td><td>46 </td><td>48 </td><td> 50</td></tr>\n",
       "\t<tr><td>52 </td><td>54 </td><td>56 </td><td>58 </td><td> 60</td></tr>\n",
       "\t<tr><td>62 </td><td>64 </td><td>66 </td><td>68 </td><td> 70</td></tr>\n",
       "\t<tr><td>72 </td><td>74 </td><td>76 </td><td>78 </td><td> 80</td></tr>\n",
       "\t<tr><td>82 </td><td>84 </td><td>86 </td><td>88 </td><td> 90</td></tr>\n",
       "\t<tr><td>92 </td><td>94 </td><td>96 </td><td>98 </td><td>100</td></tr>\n",
       "</tbody>\n",
       "</table>\n"
      ],
      "text/latex": [
       "\\begin{tabular}{lllll}\n",
       "\t  1  &  3  &  5  &  7  &   9\\\\\n",
       "\t 11  & 13  & 15  & 17  &  19\\\\\n",
       "\t 21  & 23  & 25  & 27  &  29\\\\\n",
       "\t 31  & 33  & 35  & 37  &  39\\\\\n",
       "\t 41  & 43  & 45  & 47  &  49\\\\\n",
       "\t 51  & 53  & 55  & 57  &  59\\\\\n",
       "\t 61  & 63  & 65  & 67  &  69\\\\\n",
       "\t 71  & 73  & 75  & 77  &  79\\\\\n",
       "\t 81  & 83  & 85  & 87  &  89\\\\\n",
       "\t 91  & 93  & 95  & 97  &  99\\\\\n",
       "\t  2  &  4  &  6  &  8  &  10\\\\\n",
       "\t 12  & 14  & 16  & 18  &  20\\\\\n",
       "\t 22  & 24  & 26  & 28  &  30\\\\\n",
       "\t 32  & 34  & 36  & 38  &  40\\\\\n",
       "\t 42  & 44  & 46  & 48  &  50\\\\\n",
       "\t 52  & 54  & 56  & 58  &  60\\\\\n",
       "\t 62  & 64  & 66  & 68  &  70\\\\\n",
       "\t 72  & 74  & 76  & 78  &  80\\\\\n",
       "\t 82  & 84  & 86  & 88  &  90\\\\\n",
       "\t 92  & 94  & 96  & 98  & 100\\\\\n",
       "\\end{tabular}\n"
      ],
      "text/markdown": [
       "\n",
       "|  1  |  3  |  5  |  7  |   9 |\n",
       "| 11  | 13  | 15  | 17  |  19 |\n",
       "| 21  | 23  | 25  | 27  |  29 |\n",
       "| 31  | 33  | 35  | 37  |  39 |\n",
       "| 41  | 43  | 45  | 47  |  49 |\n",
       "| 51  | 53  | 55  | 57  |  59 |\n",
       "| 61  | 63  | 65  | 67  |  69 |\n",
       "| 71  | 73  | 75  | 77  |  79 |\n",
       "| 81  | 83  | 85  | 87  |  89 |\n",
       "| 91  | 93  | 95  | 97  |  99 |\n",
       "|  2  |  4  |  6  |  8  |  10 |\n",
       "| 12  | 14  | 16  | 18  |  20 |\n",
       "| 22  | 24  | 26  | 28  |  30 |\n",
       "| 32  | 34  | 36  | 38  |  40 |\n",
       "| 42  | 44  | 46  | 48  |  50 |\n",
       "| 52  | 54  | 56  | 58  |  60 |\n",
       "| 62  | 64  | 66  | 68  |  70 |\n",
       "| 72  | 74  | 76  | 78  |  80 |\n",
       "| 82  | 84  | 86  | 88  |  90 |\n",
       "| 92  | 94  | 96  | 98  | 100 |\n",
       "\n"
      ],
      "text/plain": [
       "      [,1] [,2] [,3] [,4] [,5]\n",
       " [1,]  1    3    5    7     9 \n",
       " [2,] 11   13   15   17    19 \n",
       " [3,] 21   23   25   27    29 \n",
       " [4,] 31   33   35   37    39 \n",
       " [5,] 41   43   45   47    49 \n",
       " [6,] 51   53   55   57    59 \n",
       " [7,] 61   63   65   67    69 \n",
       " [8,] 71   73   75   77    79 \n",
       " [9,] 81   83   85   87    89 \n",
       "[10,] 91   93   95   97    99 \n",
       "[11,]  2    4    6    8    10 \n",
       "[12,] 12   14   16   18    20 \n",
       "[13,] 22   24   26   28    30 \n",
       "[14,] 32   34   36   38    40 \n",
       "[15,] 42   44   46   48    50 \n",
       "[16,] 52   54   56   58    60 \n",
       "[17,] 62   64   66   68    70 \n",
       "[18,] 72   74   76   78    80 \n",
       "[19,] 82   84   86   88    90 \n",
       "[20,] 92   94   96   98   100 "
      ]
     },
     "metadata": {},
     "output_type": "display_data"
    }
   ],
   "source": [
    "Numbers_array <- array(matrix(Numbers), dim = c(20,5))\n",
    "Numbers_array"
   ]
  },
  {
   "cell_type": "code",
   "execution_count": null,
   "metadata": {},
   "outputs": [],
   "source": []
  }
 ],
 "metadata": {
  "kernelspec": {
   "display_name": "R",
   "language": "R",
   "name": "ir"
  },
  "language_info": {
   "codemirror_mode": "r",
   "file_extension": ".r",
   "mimetype": "text/x-r-source",
   "name": "R",
   "pygments_lexer": "r",
   "version": "3.6.1"
  }
 },
 "nbformat": 4,
 "nbformat_minor": 2
}
